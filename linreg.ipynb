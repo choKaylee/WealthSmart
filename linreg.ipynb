{
 "cells": [
  {
   "cell_type": "markdown",
   "id": "cb7a2de8",
   "metadata": {},
   "source": []
  },
  {
   "cell_type": "markdown",
   "id": "1df1afc6",
   "metadata": {},
   "source": [
    "## Imports"
   ]
  },
  {
   "cell_type": "code",
   "execution_count": 3,
   "id": "11994ca1",
   "metadata": {},
   "outputs": [],
   "source": [
    "import pandas as pd\n",
    "import numpy as np\n",
    "from sklearn.linear_model import LinearRegression, LogisticRegression\n",
    "from sklearn.model_selection import train_test_split"
   ]
  },
  {
   "cell_type": "markdown",
   "id": "70972c3f",
   "metadata": {},
   "source": [
    "## User/portfolio data load"
   ]
  },
  {
   "cell_type": "code",
   "execution_count": 4,
   "id": "1bdf8aca",
   "metadata": {},
   "outputs": [],
   "source": [
    "user_df = pd.read_csv(\"data/synthetic_user_data.csv\")\n",
    "portfolio_df = pd.read_excel(\"data/portfolio_data.xlsx\")\n"
   ]
  },
  {
   "cell_type": "markdown",
   "id": "379a753e",
   "metadata": {},
   "source": [
    "## Pair user/portfolio pairs together (took 30 seconds to complete)"
   ]
  },
  {
   "cell_type": "code",
   "execution_count": null,
   "id": "60c98c51",
   "metadata": {},
   "outputs": [],
   "source": [
    "# --- Create all possible user-portfolio pairs ---\n",
    "# For each user and each portfolio, calculate how well the portfolio fits the user\n",
    "# using return match, risk match, and holding period match\n",
    "\n",
    "rows = []\n",
    "for _, user in user_df.iterrows():\n",
    "    for _, port in portfolio_df.iterrows():\n",
    "        row = {**user.to_dict(), **port.to_dict()}\n",
    "\n",
    "        # Match scores\n",
    "        return_match = max(0, 10 - abs(user['expected_return_score'] - port['return_percentage'] / 100))\n",
    "        risk_match = max(0, 10 - abs(user['risk_tolerance'] - port['risk_level_number']))\n",
    "        hold_match = max(0, 10 - abs(user['holding_period_response'] - port['holding_duration'] / 365))\n",
    "\n",
    "        # Weighted satisfaction score\n",
    "        satisfaction_score = (\n",
    "            user['factor_weight_return_score'] * return_match +\n",
    "            user['factor_weight_risk_tolerance'] * risk_match +\n",
    "            user['factor_weight_holding_period'] * hold_match\n",
    "        ) / (\n",
    "            user['factor_weight_return_score'] +\n",
    "            user['factor_weight_risk_tolerance'] +\n",
    "            user['factor_weight_holding_period']\n",
    "        )\n",
    "\n",
    "        # Final row\n",
    "        rows.append({\n",
    "            'user_id': user['user_id'],\n",
    "            'portfolio_id': port['portfolio_id'],\n",
    "            'return_match': return_match,\n",
    "            'risk_match': risk_match,\n",
    "            'hold_match': hold_match,\n",
    "            'expected_return_score': user['expected_return_score'],\n",
    "            'risk_tolerance': user['risk_tolerance'],\n",
    "            'holding_period_response': user['holding_period_response'],\n",
    "            'return_percentage': port['return_percentage'],\n",
    "            'risk_level_number': port['risk_level_number'],\n",
    "            'holding_duration': port['holding_duration'],\n",
    "            'satisfaction_score': satisfaction_score,\n",
    "            'is_satisfied': int(satisfaction_score >= 7)\n",
    "        })"
   ]
  },
  {
   "cell_type": "markdown",
   "id": "bc20d30e",
   "metadata": {},
   "source": [
    "### --- Convert the list of user-portfolio match rows into a DataFrame ---"
   ]
  },
  {
   "cell_type": "code",
   "execution_count": 6,
   "id": "a485b9af",
   "metadata": {},
   "outputs": [],
   "source": [
    "merged_df = pd.DataFrame(rows)\n",
    "merged_df.to_csv(\"data/user_portfolio_merged.csv\", index=False)"
   ]
  },
  {
   "cell_type": "markdown",
   "id": "82455091",
   "metadata": {},
   "source": [
    "## prepare training data (x and y)"
   ]
  },
  {
   "cell_type": "code",
   "execution_count": null,
   "id": "4988169b",
   "metadata": {},
   "outputs": [],
   "source": [
    "# --- Define features and targets for regression and classification ---\n",
    "X = merged_df[[\n",
    "    'return_match', 'risk_match', 'hold_match',\n",
    "    'expected_return_score', 'risk_tolerance', 'holding_period_response',\n",
    "    'return_percentage', 'risk_level_number', 'holding_duration']]\n",
    "\n",
    "# # Continuous satisfaction score for linear regression\n",
    "y_score = merged_df['satisfaction_score']\n",
    "# Binary label (satisfied or not) for logistic regression\n",
    "y_class = merged_df['is_satisfied']"
   ]
  },
  {
   "cell_type": "markdown",
   "id": "9497fbf2",
   "metadata": {},
   "source": [
    "## train test split"
   ]
  },
  {
   "cell_type": "code",
   "execution_count": null,
   "id": "88f9c773",
   "metadata": {},
   "outputs": [],
   "source": [
    "# --- Split data into training and test sets ---\n",
    "X_train, X_test, y_train_score, y_test_score = train_test_split(X, y_score, test_size=0.2, random_state=42)\n",
    "_, _, y_train_class, y_test_class = train_test_split(X, y_class, test_size=0.2, random_state=42)\n"
   ]
  },
  {
   "cell_type": "markdown",
   "id": "ae204d22",
   "metadata": {},
   "source": [
    "# train models on training data (took 47 seconds to run)"
   ]
  },
  {
   "cell_type": "code",
   "execution_count": null,
   "id": "2502b940",
   "metadata": {},
   "outputs": [],
   "source": [
    "# --- Train Models ---\n",
    "lr_model = LinearRegression().fit(X_train, y_train_score) # predict satisfaction score 0-10\n",
    "log_model = LogisticRegression(max_iter=1000).fit(X_train, y_train_class) # predict probability of satisfaciton\n"
   ]
  },
  {
   "cell_type": "markdown",
   "id": "92699545",
   "metadata": {},
   "source": [
    "## Model performance test"
   ]
  },
  {
   "cell_type": "markdown",
   "id": "e3a4b652",
   "metadata": {},
   "source": [
    "### RMSE is good (low values > 1.5 mean mroe accurate). Classification accuracy is good (90%)"
   ]
  },
  {
   "cell_type": "code",
   "execution_count": 20,
   "id": "6d6505a3",
   "metadata": {},
   "outputs": [
    {
     "name": "stdout",
     "output_type": "stream",
     "text": [
      "Regression RMSE: 1.01\n",
      "Classification Accuracy: 90.58%\n"
     ]
    },
    {
     "name": "stderr",
     "output_type": "stream",
     "text": [
      "/opt/anaconda3/lib/python3.12/site-packages/sklearn/metrics/_regression.py:492: FutureWarning: 'squared' is deprecated in version 1.4 and will be removed in 1.6. To calculate the root mean squared error, use the function'root_mean_squared_error'.\n",
      "  warnings.warn(\n"
     ]
    }
   ],
   "source": [
    "from sklearn.metrics import mean_squared_error, accuracy_score\n",
    "\n",
    "# Linear Regression evaluation\n",
    "y_pred_score = lr_model.predict(X_test)\n",
    "rmse = mean_squared_error(y_test_score, y_pred_score, squared=False)\n",
    "print(f\"Regression RMSE: {rmse:.2f}\")\n",
    "\n",
    "# Logistic Regression evaluation\n",
    "y_pred_class = log_model.predict(X_test)\n",
    "acc = accuracy_score(y_test_class, y_pred_class)\n",
    "print(f\"Classification Accuracy: {acc:.2%}\")\n"
   ]
  },
  {
   "cell_type": "markdown",
   "id": "2695c392",
   "metadata": {},
   "source": [
    "## Predict satisfaction function"
   ]
  },
  {
   "cell_type": "code",
   "execution_count": null,
   "id": "5435b189",
   "metadata": {},
   "outputs": [],
   "source": [
    "# --- Predict satisfaction score and probability for a user–portfolio pair ---\n",
    "def predict_satisfaction(user, portfolio):\n",
    "    return_match = max(0, 10 - abs(user['expected_return_score'] - portfolio['return_percentage'] / 100))\n",
    "    risk_match = max(0, 10 - abs(user['risk_tolerance'] - portfolio['risk_level_number']))\n",
    "    hold_match = max(0, 10 - abs(user['holding_period_response'] - portfolio['holding_duration'] / 365))\n",
    "\n",
    "    feature_names = [\n",
    "        'return_match', 'risk_match', 'hold_match',\n",
    "        'expected_return_score', 'risk_tolerance', 'holding_period_response',\n",
    "        'return_percentage', 'risk_level_number', 'holding_duration'\n",
    "    ]\n",
    "    # Convert to a DataFrame to match model training input format\n",
    "    X_input = pd.DataFrame([[\n",
    "        return_match, risk_match, hold_match,\n",
    "        user['expected_return_score'], user['risk_tolerance'], user['holding_period_response'],\n",
    "        portfolio['return_percentage'], portfolio['risk_level_number'], portfolio['holding_duration']\n",
    "    ]], columns=feature_names)\n",
    "\n",
    "    predicted_score = lr_model.predict(X_input)[0]\n",
    "    predicted_prob = log_model.predict_proba(X_input)[0][1]\n",
    "    return predicted_score, predicted_prob\n"
   ]
  },
  {
   "cell_type": "markdown",
   "id": "82841245",
   "metadata": {},
   "source": [
    "## recommend top portfolios function"
   ]
  },
  {
   "cell_type": "code",
   "execution_count": null,
   "id": "312637f8",
   "metadata": {},
   "outputs": [],
   "source": [
    "# --- Recommend top N portfolios for a given user based on predicted satisfaction score ---\n",
    "def find_best_portfolios_for_user(user, portfolio_df, top_n=5):\n",
    "    results = []\n",
    "    for _, port in portfolio_df.iterrows():\n",
    "        score, prob = predict_satisfaction(user, port)\n",
    "        results.append({\n",
    "            'portfolio_id': port['portfolio_id'],\n",
    "            'predicted_score': score,\n",
    "            'predicted_probability': prob\n",
    "        })\n",
    "    # Return top N portfolios with highest predicted satisfaction scores\n",
    "    top = pd.DataFrame(results).sort_values(by='predicted_score', ascending=False).head(top_n)\n",
    "    return top"
   ]
  },
  {
   "cell_type": "markdown",
   "id": "cb59a631",
   "metadata": {},
   "source": [
    "## test the top portfolios function"
   ]
  },
  {
   "cell_type": "code",
   "execution_count": 17,
   "id": "21b9b8db",
   "metadata": {},
   "outputs": [
    {
     "name": "stdout",
     "output_type": "stream",
     "text": [
      "     portfolio_id  predicted_score  predicted_probability\n",
      "462           463         9.756172               0.997168\n",
      "893           894         9.495355               0.994933\n",
      "997           998         9.243039               0.992073\n",
      "438           439         9.112684               0.989539\n",
      "335           336         9.012022               0.988761\n"
     ]
    }
   ],
   "source": [
    "user = user_df.iloc[0].to_dict()\n",
    "top_recommendations = find_best_portfolios_for_user(user, portfolio_df)\n",
    "print(top_recommendations)\n"
   ]
  },
  {
   "cell_type": "markdown",
   "id": "3ecc608a",
   "metadata": {},
   "source": [
    "### Test the \"predict staication\" (shows a user with a portfolio they wouldn't be satisfied with)"
   ]
  },
  {
   "cell_type": "code",
   "execution_count": null,
   "id": "e66f661c",
   "metadata": {},
   "outputs": [
    {
     "name": "stdout",
     "output_type": "stream",
     "text": [
      "Satisfaction Score: 4.97, Probability: 1.98%\n"
     ]
    }
   ],
   "source": [
    "user = user_df.iloc[3].to_dict()\n",
    "portfolio = portfolio_df.iloc[7].to_dict()\n",
    "\n",
    "score, prob = predict_satisfaction(user, portfolio) ## view the satisfaction metrics of that user / portfolio pair using predict satisfaction\n",
    "print(f\"Satisfaction Score: {score:.2f}, Probability: {prob:.2%}\")\n"
   ]
  },
  {
   "cell_type": "markdown",
   "id": "0c0e2fd8",
   "metadata": {},
   "source": [
    "## viewing that user portfolio pair"
   ]
  },
  {
   "cell_type": "code",
   "execution_count": null,
   "id": "209d4c42",
   "metadata": {},
   "outputs": [
    {
     "name": "stdout",
     "output_type": "stream",
     "text": [
      "expected_return_score       7.55\n",
      "risk_tolerance              2.97\n",
      "holding_period_response    10.00\n",
      "Name: 3, dtype: float64\n",
      "return_percentage   -54.4\n",
      "risk_level_number    6.83\n",
      "holding_duration     4746\n",
      "Name: 7, dtype: object\n"
     ]
    }
   ],
   "source": [
    "print(user_df.iloc[3][['expected_return_score', 'risk_tolerance', 'holding_period_response']])\n",
    "print(portfolio_df.iloc[7][['return_percentage', 'risk_level_number', 'holding_duration']])\n",
    "## return preference very different, risk level very different, holding period preference very different"
   ]
  },
  {
   "cell_type": "markdown",
   "id": "f34f6a34",
   "metadata": {},
   "source": [
    "## Save the models"
   ]
  },
  {
   "cell_type": "code",
   "execution_count": 22,
   "id": "f1776be9",
   "metadata": {},
   "outputs": [
    {
     "data": {
      "text/plain": [
       "['models/logistic_regression_model.joblib']"
      ]
     },
     "execution_count": 22,
     "metadata": {},
     "output_type": "execute_result"
    }
   ],
   "source": [
    "from joblib import dump\n",
    "dump(lr_model, \"models/linear_regression_model.joblib\")\n",
    "dump(log_model, \"models/logistic_regression_model.joblib\")\n"
   ]
  },
  {
   "cell_type": "markdown",
   "id": "39f08aeb",
   "metadata": {},
   "source": [
    "## optional feature performance check (which features most impactful)"
   ]
  },
  {
   "cell_type": "code",
   "execution_count": 21,
   "id": "d2412fea",
   "metadata": {},
   "outputs": [
    {
     "name": "stdout",
     "output_type": "stream",
     "text": [
      "return_match               3.374662e-01\n",
      "risk_match                 3.371168e-01\n",
      "hold_match                 3.271370e-01\n",
      "holding_duration           7.022668e-06\n",
      "return_percentage          4.058756e-08\n",
      "holding_period_response   -3.437500e-03\n",
      "risk_tolerance            -3.594735e-03\n",
      "risk_level_number         -5.095672e-03\n",
      "expected_return_score     -5.382276e-03\n",
      "dtype: float64\n"
     ]
    }
   ],
   "source": [
    "coeffs = pd.Series(lr_model.coef_, index=X.columns)\n",
    "print(coeffs.sort_values(ascending=False))\n"
   ]
  },
  {
   "cell_type": "markdown",
   "id": "4e570f6e",
   "metadata": {},
   "source": [
    "## visual plots"
   ]
  },
  {
   "cell_type": "code",
   "execution_count": null,
   "id": "019294c4",
   "metadata": {},
   "outputs": [
    {
     "data": {
      "image/png": "[encoded data removed]",
      "text/plain": [
       "<Figure size 640x480 with 1 Axes>"
      ]
     },
     "metadata": {},
     "output_type": "display_data"
    }
   ],
   "source": [
    "import matplotlib.pyplot as plt\n",
    "\n",
    "# Distribution of satisfaction scores\n",
    "plt.hist(merged_df['satisfaction_score'], bins=20, color='skyblue')\n",
    "plt.title('Distribution of Satisfaction Scores')\n",
    "plt.xlabel('Satisfaction Score')\n",
    "plt.ylabel('Count')\n",
    "plt.show()\n",
    "\n",
    "# \tThe model generates varied and realistic scores, not just extremes. Few matches are extremely poor or perfect — as expected. Most user–portfolio combos are \"okay but not great\" — also realistic\n"
   ]
  },
  {
   "cell_type": "code",
   "execution_count": null,
   "id": "b256e217",
   "metadata": {},
   "outputs": [],
   "source": []
  }
 ],
 "metadata": {
  "kernelspec": {
   "display_name": "base",
   "language": "python",
   "name": "python3"
  },
  "language_info": {
   "codemirror_mode": {
    "name": "ipython",
    "version": 3
   },
   "file_extension": ".py",
   "mimetype": "text/x-python",
   "name": "python",
   "nbconvert_exporter": "python",
   "pygments_lexer": "ipython3",
   "version": "3.12.7"
  }
 },
 "nbformat": 4,
 "nbformat_minor": 5
}
